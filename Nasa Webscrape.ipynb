{
 "cells": [
  {
   "cell_type": "code",
   "execution_count": 130,
   "metadata": {},
   "outputs": [],
   "source": [
    "#from bs4 import BeautifulSoup\n",
    "import pandas as pd\n",
    "from bs4 import BeautifulSoup\n",
    "from splinter import Browser\n",
    "import requests\n",
    "import csv\n",
    "from selenium import webdriver\n",
    "from selenium.webdriver.chrome.options import Options\n",
    "from selenium.webdriver.common.by import By\n",
    "from pprint import pprint"
   ]
  },
  {
   "cell_type": "code",
   "execution_count": null,
   "metadata": {},
   "outputs": [],
   "source": [
    "#outfile = open('table_data.csv', 'w', newline='')\n",
    "#writer = csv.writer(outfile)"
   ]
  },
  {
   "cell_type": "code",
   "execution_count": 22,
   "metadata": {},
   "outputs": [],
   "source": [
    "#created splinter browser \n",
    "\n",
    "chromedriver_path= \"C:/Users/syeong/Downloads/chromedriver_win32/chromedriver\"\n",
    "driver = webdriver.Chrome(chromedriver_path)\n",
    "url = \"https://exoplanets.nasa.gov/exoplanet-catalog/\"\n",
    "driver.get(url)\n",
    "page_source = driver.page_source\n",
    "soup = BeautifulSoup(page_source, 'lxml')"
   ]
  },
  {
   "cell_type": "code",
   "execution_count": 24,
   "metadata": {},
   "outputs": [
    {
     "data": {
      "text/plain": [
       "[<ul class=\"exoplanet\"><li><a href=\"/exoplanet-catalog/6988/11-comae-berenices-b/\">11 Comae Berenices b</a></li><li>304</li><li>19.4 Jupiters</li><li>4.72307</li><li>2007</li></ul>,\n",
       " <ul class=\"exoplanet\"><li><a href=\"/exoplanet-catalog/6989/11-ursae-minoris-b/\">11 Ursae Minoris b</a></li><li>409</li><li>14.74 Jupiters</li><li>5.013</li><li>2009</li></ul>,\n",
       " <ul class=\"exoplanet\"><li><a href=\"/exoplanet-catalog/6990/14-andromedae-b/\">14 Andromedae b</a></li><li>246</li><li>4.8 Jupiters</li><li>5.23133</li><li>2008</li></ul>,\n",
       " <ul class=\"exoplanet\"><li><a href=\"/exoplanet-catalog/6991/14-herculis-b/\">14 Herculis b</a></li><li>58</li><li>4.66 Jupiters</li><li>6.61935</li><li>2002</li></ul>,\n",
       " <ul class=\"exoplanet\"><li><a href=\"/exoplanet-catalog/6992/16-cygni-b-b/\">16 Cygni B b</a></li><li>69</li><li>1.78 Jupiters</li><li>6.215</li><li>1996</li></ul>,\n",
       " <ul class=\"exoplanet\"><li><a href=\"/exoplanet-catalog/6993/18-delphini-b/\">18 Delphini b</a></li><li>249</li><li>10.3 Jupiters</li><li>5.51048</li><li>2008</li></ul>,\n",
       " <ul class=\"exoplanet\"><li><a href=\"/exoplanet-catalog/7061/1rxs-j1609291-210524-b/\">1RXS J160929.1-210524 b</a></li><li>454</li><li>8 Jupiters</li><li>12.618</li><li>2008</li></ul>,\n",
       " <ul class=\"exoplanet\"><li><a href=\"/exoplanet-catalog/7274/24-bootis-b/\">24 Bootis b</a></li><li>313</li><li>0.91 Jupiters</li><li>5.59</li><li>2018</li></ul>,\n",
       " <ul class=\"exoplanet\"><li><a href=\"/exoplanet-catalog/6994/24-sextantis-b/\">24 Sextantis b</a></li><li>235</li><li>1.99 Jupiters</li><li>6.4535</li><li>2010</li></ul>,\n",
       " <ul class=\"exoplanet\"><li><a href=\"/exoplanet-catalog/6995/24-sextantis-c/\">24 Sextantis c</a></li><li>235</li><li>0.86 Jupiters</li><li>6.4535</li><li>2010</li></ul>]"
      ]
     },
     "execution_count": 24,
     "metadata": {},
     "output_type": "execute_result"
    }
   ],
   "source": [
    "#finds html code that looks for ul and class exoplanet\n",
    "\n",
    "planet = soup.find_all('ul', class_ = 'exoplanet')\n",
    "planet"
   ]
  },
  {
   "cell_type": "code",
   "execution_count": 25,
   "metadata": {},
   "outputs": [
    {
     "data": {
      "text/plain": [
       "'11 Comae Berenices b30419.4 Jupiters4.723072007'"
      ]
     },
     "execution_count": 25,
     "metadata": {},
     "output_type": "execute_result"
    }
   ],
   "source": [
    "#prints out the first row information from website\n",
    "planet[0].text"
   ]
  },
  {
   "cell_type": "code",
   "execution_count": 125,
   "metadata": {},
   "outputs": [],
   "source": [
    "#loops to find and seperate each item and removes element tags.\n",
    "discovery = {\n",
    "    'Name': [],\n",
    "    'Light_Years': [],\n",
    "    'Mass': [],\n",
    "    'Magnitude': [],\n",
    "    'Date': []\n",
    "}\n",
    "for x in soup.body.find_all('div', class_='datasearch'):\n",
    "    if(len(x.find_all('li'))==5):\n",
    "        for item in x.find_all('li'):\n",
    "            data = item.find('ul', class_='exoplanet')\n",
    "                #planetname = info.find('a')\n",
    "            print(item)\n",
    "           "
   ]
  },
  {
   "cell_type": "code",
   "execution_count": 82,
   "metadata": {},
   "outputs": [
    {
     "name": "stdout",
     "output_type": "stream",
     "text": [
      "11 Comae Berenices b\n",
      "11 Ursae Minoris b\n",
      "14 Andromedae b\n",
      "14 Herculis b\n",
      "16 Cygni B b\n",
      "18 Delphini b\n",
      "1RXS J160929.1-210524 b\n",
      "24 Bootis b\n",
      "24 Sextantis b\n",
      "24 Sextantis c\n"
     ]
    }
   ],
   "source": [
    "for x in soup.body.find_all('ul', class_='exoplanet'):\n",
    "    if(len(x.find_all('li'))==5):\n",
    "        name = x.find('a').text\n",
    "        print(name)"
   ]
  },
  {
   "cell_type": "code",
   "execution_count": 132,
   "metadata": {},
   "outputs": [
    {
     "ename": "AttributeError",
     "evalue": "'str' object has no attribute 'html'",
     "output_type": "error",
     "traceback": [
      "\u001b[1;31m---------------------------------------------------------------------------\u001b[0m",
      "\u001b[1;31mAttributeError\u001b[0m                            Traceback (most recent call last)",
      "\u001b[1;32m<ipython-input-132-87aa83bae5f6>\u001b[0m in \u001b[0;36m<module>\u001b[1;34m\u001b[0m\n\u001b[1;32m----> 1\u001b[1;33m \u001b[0mhtml\u001b[0m \u001b[1;33m=\u001b[0m \u001b[0mpage_source\u001b[0m\u001b[1;33m.\u001b[0m\u001b[0mhtml\u001b[0m\u001b[1;33m\u001b[0m\u001b[1;33m\u001b[0m\u001b[0m\n\u001b[0m\u001b[0;32m      2\u001b[0m \u001b[0mx\u001b[0m \u001b[1;33m=\u001b[0m \u001b[0msoup\u001b[0m\u001b[1;33m.\u001b[0m\u001b[0mbody\u001b[0m\u001b[1;33m.\u001b[0m\u001b[0mfind\u001b[0m\u001b[1;33m(\u001b[0m\u001b[1;34m'div'\u001b[0m\u001b[1;33m,\u001b[0m \u001b[0mclass_\u001b[0m\u001b[1;33m=\u001b[0m\u001b[1;34m'datasearch'\u001b[0m\u001b[1;33m)\u001b[0m\u001b[1;33m\u001b[0m\u001b[1;33m\u001b[0m\u001b[0m\n\u001b[0;32m      3\u001b[0m         \u001b[1;31m#(x.find_all('ul')):\u001b[0m\u001b[1;33m\u001b[0m\u001b[1;33m\u001b[0m\u001b[1;33m\u001b[0m\u001b[0m\n\u001b[0;32m      4\u001b[0m \u001b[1;32mfor\u001b[0m \u001b[0mitem\u001b[0m \u001b[1;32min\u001b[0m \u001b[0mx\u001b[0m\u001b[1;33m.\u001b[0m\u001b[0mfind_all\u001b[0m\u001b[1;33m(\u001b[0m\u001b[1;34m'ul'\u001b[0m\u001b[1;33m,\u001b[0m \u001b[0mclass_\u001b[0m \u001b[1;33m=\u001b[0m \u001b[1;34m'exoplanet'\u001b[0m\u001b[1;33m)\u001b[0m\u001b[1;33m:\u001b[0m\u001b[1;33m\u001b[0m\u001b[1;33m\u001b[0m\u001b[0m\n\u001b[0;32m      5\u001b[0m     \u001b[0mdiscovery\u001b[0m\u001b[1;33m[\u001b[0m\u001b[1;34m\"Name\"\u001b[0m\u001b[1;33m]\u001b[0m\u001b[1;33m.\u001b[0m\u001b[0mappend\u001b[0m\u001b[1;33m(\u001b[0m\u001b[0mitem\u001b[0m\u001b[1;33m.\u001b[0m\u001b[0mfind_all\u001b[0m\u001b[1;33m(\u001b[0m\u001b[1;34m'li'\u001b[0m\u001b[1;33m)\u001b[0m\u001b[1;33m[\u001b[0m\u001b[1;36m0\u001b[0m\u001b[1;33m]\u001b[0m\u001b[1;33m.\u001b[0m\u001b[0mtext\u001b[0m\u001b[1;33m)\u001b[0m\u001b[1;33m\u001b[0m\u001b[1;33m\u001b[0m\u001b[0m\n",
      "\u001b[1;31mAttributeError\u001b[0m: 'str' object has no attribute 'html'"
     ]
    }
   ],
   "source": [
    "html = page_source.html\n",
    "x = soup.body.find('div', class_='datasearch')\n",
    "        #(x.find_all('ul')):\n",
    "for item in x.find_all('ul', class_ = 'exoplanet'):\n",
    "    discovery[\"Name\"].append(item.find_all('li')[0].text)\n",
    "    discovery[\"Light_Years\"].append(item.find_all('li')[1].text) \n",
    "    discovery[\"Mass\"].append(item.find_all('li')[2].text) \n",
    "    discovery[\"Magnitude\"].append(item.find_all('li')[3].text) \n",
    "    discovery[\"Date\"].append(item.find_all('li')[4].text) \n",
    "    browser.links.find_by_partial_text('Next').click()\n",
    " #   print(item.find_all('li')[0].text)"
   ]
  },
  {
   "cell_type": "code",
   "execution_count": 128,
   "metadata": {},
   "outputs": [
    {
     "data": {
      "text/plain": [
       "{'Name': ['11 Comae Berenices b',\n",
       "  '11 Ursae Minoris b',\n",
       "  '14 Andromedae b',\n",
       "  '14 Herculis b',\n",
       "  '16 Cygni B b',\n",
       "  '18 Delphini b',\n",
       "  '1RXS J160929.1-210524 b',\n",
       "  '24 Bootis b',\n",
       "  '24 Sextantis b',\n",
       "  '24 Sextantis c'],\n",
       " 'Light_Years': ['304',\n",
       "  '409',\n",
       "  '246',\n",
       "  '58',\n",
       "  '69',\n",
       "  '249',\n",
       "  '454',\n",
       "  '313',\n",
       "  '235',\n",
       "  '235'],\n",
       " 'Mass': ['19.4 Jupiters',\n",
       "  '14.74 Jupiters',\n",
       "  '4.8 Jupiters',\n",
       "  '4.66 Jupiters',\n",
       "  '1.78 Jupiters',\n",
       "  '10.3 Jupiters',\n",
       "  '8 Jupiters',\n",
       "  '0.91 Jupiters',\n",
       "  '1.99 Jupiters',\n",
       "  '0.86 Jupiters'],\n",
       " 'Magnitude': ['4.72307',\n",
       "  '5.013',\n",
       "  '5.23133',\n",
       "  '6.61935',\n",
       "  '6.215',\n",
       "  '5.51048',\n",
       "  '12.618',\n",
       "  '5.59',\n",
       "  '6.4535',\n",
       "  '6.4535'],\n",
       " 'Date': ['2007',\n",
       "  '2009',\n",
       "  '2008',\n",
       "  '2002',\n",
       "  '1996',\n",
       "  '2008',\n",
       "  '2008',\n",
       "  '2018',\n",
       "  '2010',\n",
       "  '2010']}"
      ]
     },
     "execution_count": 128,
     "metadata": {},
     "output_type": "execute_result"
    }
   ],
   "source": [
    "discovery"
   ]
  },
  {
   "cell_type": "code",
   "execution_count": 70,
   "metadata": {},
   "outputs": [
    {
     "data": {
      "text/plain": [
       "<selenium.webdriver.remote.webelement.WebElement (session=\"564595dd39da216eaf53fd6da9773c8c\", element=\"2cafbf81-99ea-46c6-a9e7-bfe62f2ba754\")>"
      ]
     },
     "execution_count": 70,
     "metadata": {},
     "output_type": "execute_result"
    }
   ],
   "source": [
    "element = driver.find_element_by_partial_link_text('ul')\n",
    "element"
   ]
  }
 ],
 "metadata": {
  "kernelspec": {
   "display_name": "Python 3",
   "language": "python",
   "name": "python3"
  },
  "language_info": {
   "codemirror_mode": {
    "name": "ipython",
    "version": 3
   },
   "file_extension": ".py",
   "mimetype": "text/x-python",
   "name": "python",
   "nbconvert_exporter": "python",
   "pygments_lexer": "ipython3",
   "version": "3.8.5"
  }
 },
 "nbformat": 4,
 "nbformat_minor": 4
}
