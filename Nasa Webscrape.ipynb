{
 "cells": [
  {
   "cell_type": "code",
   "execution_count": 13,
   "metadata": {},
   "outputs": [],
   "source": [
    "#from bs4 import BeautifulSoup\n",
    "import pandas as pd\n",
    "import bs4\n",
    "from splinter import Browser\n",
    "import requests\n",
    "import os\n",
    "import csv\n",
    "from selenium import webdriver\n",
    "from selenium.webdriver.chrome.options import Options\n",
    "from pprint import pprint"
   ]
  },
  {
   "cell_type": "code",
   "execution_count": null,
   "metadata": {},
   "outputs": [],
   "source": [
    "#outfile = open('table_data.csv', 'w', newline='')\n",
    "#writer = csv.writer(outfile)"
   ]
  },
  {
   "cell_type": "code",
   "execution_count": 2,
   "metadata": {},
   "outputs": [],
   "source": [
    "#created splinter browser \n",
    "\n",
    "chromedriver_path= \"C:/Users/syeong/Downloads/chromedriver_win32/chromedriver\"\n",
    "driver = webdriver.Chrome(chromedriver_path)\n",
    "url = \"https://exoplanets.nasa.gov/exoplanet-catalog/\"\n",
    "driver.get(url)\n",
    "#time.sleep(3) #if you want to wait 3 seconds for the page to load\n",
    "page_source = driver.page_source\n",
    "soup = BeautifulSoup(page_source, 'lxml')"
   ]
  },
  {
   "cell_type": "code",
   "execution_count": null,
   "metadata": {},
   "outputs": [],
   "source": [
    "url = 'https://exoplanets.nasa.gov'\n",
    "html = requests.get(url)\n",
    "\n",
    "discovery = {\n",
    "    'Name': [],\n",
    "    'Light years': [],\n",
    "    'Mass': [],\n",
    "    'Magnitude': [],\n",
    "    'Date': []\n",
    "}"
   ]
  },
  {
   "cell_type": "code",
   "execution_count": 22,
   "metadata": {},
   "outputs": [
    {
     "data": {
      "text/plain": [
       "[<ul class=\"exoplanet\"><li><a href=\"/exoplanet-catalog/6988/11-comae-berenices-b/\">11 Comae Berenices b</a></li><li>304</li><li>19.4 Jupiters</li><li>4.72307</li><li>2007</li></ul>,\n",
       " <ul class=\"exoplanet\"><li><a href=\"/exoplanet-catalog/6989/11-ursae-minoris-b/\">11 Ursae Minoris b</a></li><li>409</li><li>14.74 Jupiters</li><li>5.013</li><li>2009</li></ul>,\n",
       " <ul class=\"exoplanet\"><li><a href=\"/exoplanet-catalog/6990/14-andromedae-b/\">14 Andromedae b</a></li><li>246</li><li>4.8 Jupiters</li><li>5.23133</li><li>2008</li></ul>,\n",
       " <ul class=\"exoplanet\"><li><a href=\"/exoplanet-catalog/6991/14-herculis-b/\">14 Herculis b</a></li><li>58</li><li>4.66 Jupiters</li><li>6.61935</li><li>2002</li></ul>,\n",
       " <ul class=\"exoplanet\"><li><a href=\"/exoplanet-catalog/6992/16-cygni-b-b/\">16 Cygni B b</a></li><li>69</li><li>1.78 Jupiters</li><li>6.215</li><li>1996</li></ul>,\n",
       " <ul class=\"exoplanet\"><li><a href=\"/exoplanet-catalog/6993/18-delphini-b/\">18 Delphini b</a></li><li>249</li><li>10.3 Jupiters</li><li>5.51048</li><li>2008</li></ul>,\n",
       " <ul class=\"exoplanet\"><li><a href=\"/exoplanet-catalog/7061/1rxs-j1609291-210524-b/\">1RXS J160929.1-210524 b</a></li><li>454</li><li>8 Jupiters</li><li>12.618</li><li>2008</li></ul>,\n",
       " <ul class=\"exoplanet\"><li><a href=\"/exoplanet-catalog/7274/24-bootis-b/\">24 Bootis b</a></li><li>313</li><li>0.91 Jupiters</li><li>5.59</li><li>2018</li></ul>,\n",
       " <ul class=\"exoplanet\"><li><a href=\"/exoplanet-catalog/6994/24-sextantis-b/\">24 Sextantis b</a></li><li>235</li><li>1.99 Jupiters</li><li>6.4535</li><li>2010</li></ul>,\n",
       " <ul class=\"exoplanet\"><li><a href=\"/exoplanet-catalog/6995/24-sextantis-c/\">24 Sextantis c</a></li><li>235</li><li>0.86 Jupiters</li><li>6.4535</li><li>2010</li></ul>]"
      ]
     },
     "execution_count": 22,
     "metadata": {},
     "output_type": "execute_result"
    }
   ],
   "source": [
    "#finds html code that looks for ul and class exoplanet\n",
    "\n",
    "planet = soup.find_all('ul', class_ = 'exoplanet')\n",
    "planet"
   ]
  },
  {
   "cell_type": "code",
   "execution_count": 23,
   "metadata": {},
   "outputs": [
    {
     "data": {
      "text/plain": [
       "'11 Comae Berenices b30419.4 Jupiters4.723072007'"
      ]
     },
     "execution_count": 23,
     "metadata": {},
     "output_type": "execute_result"
    }
   ],
   "source": [
    "#prints out the first row information from website\n",
    "planet[0].text"
   ]
  },
  {
   "cell_type": "code",
   "execution_count": 16,
   "metadata": {},
   "outputs": [
    {
     "name": "stdout",
     "output_type": "stream",
     "text": [
      "11 Comae Berenices b\n",
      "304\n",
      "19.4 Jupiters\n",
      "4.72307\n",
      "2007\n",
      "<ul class=\"exoplanet\"><li><a href=\"/exoplanet-catalog/6988/11-comae-berenices-b/\">11 Comae Berenices b</a></li><li>304</li><li>19.4 Jupiters</li><li>4.72307</li><li>2007</li></ul>\n",
      "11 Ursae Minoris b\n",
      "409\n",
      "14.74 Jupiters\n",
      "5.013\n",
      "2009\n",
      "<ul class=\"exoplanet\"><li><a href=\"/exoplanet-catalog/6989/11-ursae-minoris-b/\">11 Ursae Minoris b</a></li><li>409</li><li>14.74 Jupiters</li><li>5.013</li><li>2009</li></ul>\n",
      "14 Andromedae b\n",
      "246\n",
      "4.8 Jupiters\n",
      "5.23133\n",
      "2008\n",
      "<ul class=\"exoplanet\"><li><a href=\"/exoplanet-catalog/6990/14-andromedae-b/\">14 Andromedae b</a></li><li>246</li><li>4.8 Jupiters</li><li>5.23133</li><li>2008</li></ul>\n",
      "14 Herculis b\n",
      "58\n",
      "4.66 Jupiters\n",
      "6.61935\n",
      "2002\n",
      "<ul class=\"exoplanet\"><li><a href=\"/exoplanet-catalog/6991/14-herculis-b/\">14 Herculis b</a></li><li>58</li><li>4.66 Jupiters</li><li>6.61935</li><li>2002</li></ul>\n",
      "16 Cygni B b\n",
      "69\n",
      "1.78 Jupiters\n",
      "6.215\n",
      "1996\n",
      "<ul class=\"exoplanet\"><li><a href=\"/exoplanet-catalog/6992/16-cygni-b-b/\">16 Cygni B b</a></li><li>69</li><li>1.78 Jupiters</li><li>6.215</li><li>1996</li></ul>\n",
      "18 Delphini b\n",
      "249\n",
      "10.3 Jupiters\n",
      "5.51048\n",
      "2008\n",
      "<ul class=\"exoplanet\"><li><a href=\"/exoplanet-catalog/6993/18-delphini-b/\">18 Delphini b</a></li><li>249</li><li>10.3 Jupiters</li><li>5.51048</li><li>2008</li></ul>\n",
      "1RXS J160929.1-210524 b\n",
      "454\n",
      "8 Jupiters\n",
      "12.618\n",
      "2008\n",
      "<ul class=\"exoplanet\"><li><a href=\"/exoplanet-catalog/7061/1rxs-j1609291-210524-b/\">1RXS J160929.1-210524 b</a></li><li>454</li><li>8 Jupiters</li><li>12.618</li><li>2008</li></ul>\n",
      "24 Bootis b\n",
      "313\n",
      "0.91 Jupiters\n",
      "5.59\n",
      "2018\n",
      "<ul class=\"exoplanet\"><li><a href=\"/exoplanet-catalog/7274/24-bootis-b/\">24 Bootis b</a></li><li>313</li><li>0.91 Jupiters</li><li>5.59</li><li>2018</li></ul>\n",
      "24 Sextantis b\n",
      "235\n",
      "1.99 Jupiters\n",
      "6.4535\n",
      "2010\n",
      "<ul class=\"exoplanet\"><li><a href=\"/exoplanet-catalog/6994/24-sextantis-b/\">24 Sextantis b</a></li><li>235</li><li>1.99 Jupiters</li><li>6.4535</li><li>2010</li></ul>\n",
      "24 Sextantis c\n",
      "235\n",
      "0.86 Jupiters\n",
      "6.4535\n",
      "2010\n",
      "<ul class=\"exoplanet\"><li><a href=\"/exoplanet-catalog/6995/24-sextantis-c/\">24 Sextantis c</a></li><li>235</li><li>0.86 Jupiters</li><li>6.4535</li><li>2010</li></ul>\n"
     ]
    }
   ],
   "source": [
    "#loops to find and seperate each item and removes element tags.\n",
    "\n",
    "for x in soup.body.find_all('ul', class_='exoplanet'):\n",
    "    if(len(x.find_all('li'))==5):\n",
    "        for item in x.find_all('li'):\n",
    "            print(item.text)\n",
    "        print(x)"
   ]
  }
 ],
 "metadata": {
  "kernelspec": {
   "display_name": "Python 3",
   "language": "python",
   "name": "python3"
  },
  "language_info": {
   "codemirror_mode": {
    "name": "ipython",
    "version": 3
   },
   "file_extension": ".py",
   "mimetype": "text/x-python",
   "name": "python",
   "nbconvert_exporter": "python",
   "pygments_lexer": "ipython3",
   "version": "3.8.5"
  }
 },
 "nbformat": 4,
 "nbformat_minor": 4
}
